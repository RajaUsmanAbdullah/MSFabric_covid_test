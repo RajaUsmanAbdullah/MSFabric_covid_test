{
 "cells": [
  {
   "cell_type": "code",
   "execution_count": null,
   "id": "7aaf7ded",
   "metadata": {},
   "outputs": [],
   "source": [
    "# Welcome to your new notebook\n",
    "# Type here in the cell editor to add code!\n",
    "from pyspark.sql.functions import col\n",
    "from pyspark.sql.types import TimestampType"
   ]
  },
  {
   "cell_type": "code",
   "execution_count": null,
   "id": "4f5e1039",
   "metadata": {},
   "outputs": [],
   "source": [
    "df = spark.read.option(\"multiline\", \"true\").json(\"Files/covid_test.json\")\n",
    "# df now is a Spark DataFrame containing JSON data from \"Files/covid_test.json\"."
   ]
  },
  {
   "cell_type": "code",
   "execution_count": null,
   "id": "f9d39252",
   "metadata": {},
   "outputs": [],
   "source": [
    "#convert Json fields into columns - Data transformation\n",
    "df = \\\n",
    "df.\\\n",
    "    select (\n",
    "        col('cases').getItem('1M_pop').alias('1M_pop_cases'),\n",
    "        col('cases').getItem('active').alias('active_cases'),\n",
    "        col('cases').getItem('recovered').alias('recovered_cases'),\n",
    "        col('cases').getItem('total').alias('total_cases'),\n",
    "        'continent',\n",
    "        'country',\n",
    "        'day',\n",
    "        col('deaths').getItem('1M_pop').alias('1M_pop_deaths'),\n",
    "        col('deaths').getItem('total').alias('total_deaths'),\n",
    "        'population',\n",
    "        col('tests').getItem('1M_pop').alias('1M_pop_tests'),\n",
    "        col('tests').getItem('total').alias('total_tests'),\n",
    "        'time'\n",
    "    )"
   ]
  },
  {
   "cell_type": "code",
   "execution_count": null,
   "id": "2f84f3ea",
   "metadata": {},
   "outputs": [],
   "source": [
    "#Split date time field into 2 separate fields, date and time\n",
    "from pyspark.sql.functions import col, split\n",
    "df = df.\\\n",
    "    withColumn('Update_date', split(col('time'), 'T').getItem(0)). \\\n",
    "    withColumn('Update_time', split(split(col('time'), 'T').getItem(1), '\\+').getItem(0))"
   ]
  },
  {
   "cell_type": "code",
   "execution_count": null,
   "id": "b52a56bf",
   "metadata": {},
   "outputs": [],
   "source": [
    "#Drop the date time field as it is not needed anymore\n",
    "df= df.drop('time')"
   ]
  },
  {
   "cell_type": "code",
   "execution_count": null,
   "id": "e2a6e329",
   "metadata": {},
   "outputs": [],
   "source": [
    "#Convert datatype into numeric for relevant fields\n",
    "from pyspark.sql.functions import col\n",
    "df = df.\\\n",
    "    withColumn(\"1M_pop_cases\", col(\"1M_pop_cases\").cast(\"double\")).\\\n",
    "    withColumn(\"active_cases\", col(\"active_cases\").cast(\"double\")).\\\n",
    "    withColumn(\"recovered_cases\", col(\"recovered_cases\").cast(\"double\")).\\\n",
    "    withColumn(\"total_cases\", col(\"total_cases\").cast(\"double\")).\\\n",
    "    withColumn(\"1M_pop_deaths\", col(\"1M_pop_deaths\").cast(\"double\")).\\\n",
    "    withColumn(\"total_deaths\", col(\"total_deaths\").cast(\"double\")).\\\n",
    "    withColumn(\"population\", col(\"population\").cast(\"double\")).\\\n",
    "    withColumn(\"1M_pop_tests\", col(\"1M_pop_tests\").cast(\"double\")).\\\n",
    "    withColumn(\"total_tests\", col(\"total_tests\").cast(\"double\"))"
   ]
  },
  {
   "cell_type": "code",
   "execution_count": null,
   "id": "be45f7af",
   "metadata": {},
   "outputs": [],
   "source": [
    "#Fix the datatype for date and time field created\n",
    "from pyspark.sql.functions import col, to_date, to_timestamp\n",
    "df = df.\\\n",
    "    withColumn(\"date\", to_date(col(\"Update_date\"), \"yyyy-MM-dd\")).\\\n",
    "    withColumn(\"timestamp\", to_timestamp(col(\"Update_time\"), \"yyyy-MM-dd'T'HH:mm:ssXXX\"))"
   ]
  },
  {
   "cell_type": "code",
   "execution_count": null,
   "id": "3490804d",
   "metadata": {},
   "outputs": [],
   "source": [
    "#Drop columns which are not needed \n",
    "df= df.drop('day', 'date', 'timestamp')"
   ]
  },
  {
   "cell_type": "code",
   "execution_count": null,
   "id": "95c8b888",
   "metadata": {},
   "outputs": [],
   "source": [
    "#As data is updated in API on a daily basis, we will overwrite our table daily to only keep the most up to date copy of data and no historical records\n",
    "df.write.mode('overwrite').saveAsTable('covid_by_country')"
   ]
  }
 ],
 "metadata": {
  "kernelspec": {
   "display_name": "Python 3 (ipykernel)",
   "language": "python",
   "name": "python3"
  },
  "language_info": {
   "codemirror_mode": {
    "name": "ipython",
    "version": 3
   },
   "file_extension": ".py",
   "mimetype": "text/x-python",
   "name": "python",
   "nbconvert_exporter": "python",
   "pygments_lexer": "ipython3",
   "version": "3.11.5"
  }
 },
 "nbformat": 4,
 "nbformat_minor": 5
}

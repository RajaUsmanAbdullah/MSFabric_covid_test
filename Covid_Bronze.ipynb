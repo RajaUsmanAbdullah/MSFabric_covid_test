{
 "cells": [
  {
   "cell_type": "code",
   "execution_count": null,
   "id": "66501ed9",
   "metadata": {},
   "outputs": [],
   "source": [
    "# Welcome to your new notebook\n",
    "# Type here in the cell editor to add code!\n",
    "# First, ensure you have the 'requests' package installed. If not, install it using:\n",
    "# !pip install requests\n",
    "\n",
    "import requests\n",
    "import json\n",
    "\n",
    "# Set up the API request details\n",
    "url = \"ENTER URL\"\n",
    "headers = {\n",
    "    \"x-rapidapi-host\": \"ENTER HOST\",\n",
    "    \"x-rapidapi-key\": \"ENTER YOUR API KEY\"  # Replace with your actual Rapid API key\n",
    "}\n",
    "\n",
    "# Make the API request\n",
    "response = requests.get(url, headers=headers)\n",
    "\n",
    "# Check if the request was successful\n",
    "if response.status_code == 200:\n",
    "    data = response.json()  # Parse the JSON response\n",
    "    data=data['response']\n",
    "    file_path = f'/lakehouse/default/Files/covid_test.json'\n",
    "    \n",
    "    with open(file_path, 'w') as file:\n",
    "        json.dump(data, file, indent=4)\n",
    "\n",
    "    print(f\"Data successfully saved to {file_path}\")\n",
    "\n",
    "\n",
    "else:\n",
    "    print(\"Error:\", {response.status_code})\n",
    "\n",
    "# Process and use the data as needed"
   ]
  }
 ],
 "metadata": {
  "kernelspec": {
   "display_name": "Python 3 (ipykernel)",
   "language": "python",
   "name": "python3"
  },
  "language_info": {
   "codemirror_mode": {
    "name": "ipython",
    "version": 3
   },
   "file_extension": ".py",
   "mimetype": "text/x-python",
   "name": "python",
   "nbconvert_exporter": "python",
   "pygments_lexer": "ipython3",
   "version": "3.11.5"
  }
 },
 "nbformat": 4,
 "nbformat_minor": 5
}
